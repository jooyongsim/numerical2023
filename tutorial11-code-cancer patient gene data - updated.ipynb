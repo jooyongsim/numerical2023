{
 "cells": [
  {
   "cell_type": "code",
   "execution_count": null,
   "metadata": {},
   "outputs": [],
   "source": [
    "import matplotlib.pyplot as plt\n",
    "import numpy as np\n",
    "import os\n",
    "from mpl_toolkits.mplot3d import Axes3D\n",
    "plt.rcParams['figure.figsize'] = [16, 8]\n",
    "plt.rcParams.update({'font.size': 18})\n",
    "\n",
    "obs = np.loadtxt('ovariancancer_obs.csv',delimiter=',')\n",
    "\n",
    "f = open('ovariancancer_grp.csv', \"r\")\n",
    "grp = f.read().split(\"\\n\")\n",
    "grp = grp[:-1]\n",
    "print('number of patient:', len(grp))\n",
    "\n",
    "obs_mean = obs - obs.mean(0)\n",
    "obs_mean.shape"
   ]
  },
  {
   "cell_type": "code",
   "execution_count": null,
   "metadata": {},
   "outputs": [],
   "source": [
    "U, S, VT = np.linalg.svd(obs_mean,full_matrices=False)"
   ]
  },
  {
   "cell_type": "code",
   "execution_count": null,
   "metadata": {},
   "outputs": [],
   "source": [
    "U.shape, S.shape, VT.shape, obs_mean.shape"
   ]
  },
  {
   "cell_type": "code",
   "execution_count": null,
   "metadata": {},
   "outputs": [],
   "source": [
    "Z = obs_mean@VTp.transpose()\n",
    "Z.shape"
   ]
  },
  {
   "cell_type": "code",
   "execution_count": null,
   "metadata": {},
   "outputs": [],
   "source": [
    "classes = np.unique(grp)\n",
    "classes"
   ]
  },
  {
   "cell_type": "code",
   "execution_count": null,
   "metadata": {},
   "outputs": [],
   "source": [
    "i_pat = np.array(grp) == classes[0]\n",
    "i_normal = np.array(grp) == classes[1]\n",
    "\n",
    "fig = plt.figure(figsize=[5,5])\n",
    "ax = fig.add_subplot()\n",
    "ax.scatter(Z[i_pat,0],Z[i_pat,1],marker='o',color='r')\n",
    "ax.scatter(Z[i_normal,0],Z[i_normal,1],marker='*',color='b')\n",
    "ax.set_xlabel('prinicipal component 1')\n",
    "ax.set_ylabel('prinicipal component 2')\n",
    "plt.show()"
   ]
  },
  {
   "cell_type": "code",
   "execution_count": null,
   "metadata": {},
   "outputs": [],
   "source": [
    "fig2 = plt.figure()\n",
    "ax = fig2.add_subplot()\n",
    "# ax = fig2.add_subplot(111, projection='3d')\n",
    "\n",
    "for j in range(obs.shape[0]):\n",
    "    x = VT[0,:] @ obs[j,:].T\n",
    "    y = VT[1,:] @ obs[j,:].T\n",
    "    z = VT[2,:] @ obs[j,:].T\n",
    "    \n",
    "    if grp[j] == 'Cancer':\n",
    "#         ax.scatter(x,y,z,marker='x',color='r',s=50)\n",
    "        ax.plot(y,z,marker = '*',color = 'r')\n",
    "    else:\n",
    "#         ax.scatter(x,y,z,marker='o',color='b',s=50)\n",
    "        ax.plot(y,z,marker = 'o',color = 'b')\n",
    "\n",
    "# ax.view_init(50,20)\n",
    "plt.show()"
   ]
  },
  {
   "cell_type": "code",
   "execution_count": null,
   "metadata": {},
   "outputs": [],
   "source": [
    "U, S, VT = np.linalg.svd(obs,full_matrices=0)\n",
    "\n",
    "fig1 = plt.figure()\n",
    "ax1 = fig1.add_subplot(121)\n",
    "ax1.semilogy(S,'-o',color='k')\n",
    "ax2 = fig1.add_subplot(122)\n",
    "ax2.plot(np.cumsum(S)/np.sum(S),'-o',color='k')\n",
    "\n",
    "plt.show()"
   ]
  }
 ],
 "metadata": {
  "kernelspec": {
   "display_name": "Python 3",
   "language": "python",
   "name": "python3"
  },
  "language_info": {
   "codemirror_mode": {
    "name": "ipython",
    "version": 3
   },
   "file_extension": ".py",
   "mimetype": "text/x-python",
   "name": "python",
   "nbconvert_exporter": "python",
   "pygments_lexer": "ipython3",
   "version": "3.7.3"
  }
 },
 "nbformat": 4,
 "nbformat_minor": 2
}
