{
 "cells": [
  {
   "cell_type": "markdown",
   "metadata": {},
   "source": [
    "# 실습 5:Numerical Sol (Root of Equ), Integration, Differentiation (2023.10.18)\n",
    "### 빅데이터수치해석 입문 및 실습 \n",
    "### 숙명여자대학교 기계시스템학부 심주용\n",
    "\n",
    "- Reference: Advanced Engineering Mathematics Book by Erwin Kreyszig\n",
    "\n",
    "##  Numerical Sol (Root of Equ): Secant Method\n",
    "\n",
    "Let's find a solution (root) of equation $ x^2-2=0 $ or $ x-2sinx=0 $ \n",
    "\n"
   ]
  },
  {
   "cell_type": "code",
   "execution_count": 1,
   "metadata": {},
   "outputs": [
    {
     "name": "stdout",
     "output_type": "stream",
     "text": [
      "n:0, xn-1:2.000000, xn:1.900000, xn+1:1.487179, error:-2.775862e-01\n",
      "n:1, xn-1:1.900000, xn:1.487179, xn+1:1.424678, error:-4.387041e-02\n",
      "n:2, xn-1:1.487179, xn:1.424678, xn+1:1.414476, error:-7.212909e-03\n",
      "n:3, xn-1:1.424678, xn:1.414476, xn+1:1.414215, error:-1.847388e-04\n",
      "Solution of x-2sin(x)=0 is 1.414215\n"
     ]
    }
   ],
   "source": [
    "def func(x):\n",
    "    return x**2-2\n",
    "\n",
    "N = 10; x0 = 2; x1 = 1.9; tol = 1e-3; xn_1 = x0; xn = x1\n",
    "\n",
    "for i in range(N):\n",
    "    fp = (func(xn)-func(xn_1))/(xn-xn_1)\n",
    "    \n",
    "    xnn = xn - func(xn)/fp\n",
    "\n",
    "    error = (xnn - xn)/xnn\n",
    "    print(f'n:{i}, xn-1:{xn_1:.6f}, xn:{xn:.6f}, xn+1:{xnn:.6f}, error:{error:.6e}')\n",
    "\n",
    "    xn_1 = xn; xn = xnn    \n",
    "    if abs(error) < tol:\n",
    "        break\n",
    "\n",
    "print(f'Solution of x-2sin(x)=0 is {xn:.6f}')"
   ]
  },
  {
   "cell_type": "markdown",
   "metadata": {},
   "source": [
    "## Numerical Integration: Rectangular rule and trapezoidal rule\n",
    "\n",
    "Here we will integrate a function for a given range. Consider a function $f(x)=e^{-x^2}$. First, integrate the function analytically."
   ]
  },
  {
   "cell_type": "code",
   "execution_count": 2,
   "metadata": {},
   "outputs": [
    {
     "data": {
      "text/latex": [
       "$\\displaystyle 0.74682413$"
      ],
      "text/plain": [
       "0.74682413"
      ]
     },
     "execution_count": 2,
     "metadata": {},
     "output_type": "execute_result"
    }
   ],
   "source": [
    "import sympy\n",
    "\n",
    "x = sympy.symbols(\"x\")\n",
    "exp = sympy.exp(-x**2)\n",
    "exact_awnwer = sympy.integrate(exp, (x, 0, 1)).evalf(8)\n",
    "exact_awnwer"
   ]
  },
  {
   "cell_type": "code",
   "execution_count": 4,
   "metadata": {},
   "outputs": [
    {
     "name": "stdout",
     "output_type": "stream",
     "text": [
      "j= 0 , xj= 0  , function= 1.0  \n",
      "j= 1 , xj= 0.1, function= 0.9900498337491681\n",
      "j= 2 , xj= 0.2, function= 0.9607894391523232\n",
      "j= 3 , xj= 0.3, function= 0.9139311852712282\n",
      "j= 4 , xj= 0.4, function= 0.8521437889662113\n",
      "j= 5 , xj= 0.5, function= 0.7788007830714049\n",
      "j= 6 , xj= 0.6, function= 0.697676326071031\n",
      "j= 7 , xj= 0.7, function= 0.6126263941844161\n",
      "j= 8 , xj= 0.8, function= 0.5272924240430487\n",
      "j= 9 , xj= 0.9, function= 0.4448580662229412\n",
      "j= 10, xj= 1.0, function= 0.3678794411714424\n",
      "0.7462107961317493\n",
      "% error trapezoidal: 0.0821260388973603\n"
     ]
    }
   ],
   "source": [
    "import numpy as np\n",
    "\n",
    "# trapezoidal\n",
    "def func(x):\n",
    "    return np.exp(-x**2)\n",
    "\n",
    "h = 0.1\n",
    "int_sum = 0 # integration 값을 담는 그릇\n",
    "xj = 0\n",
    "for j in range(11):\n",
    "    if j == 0 or j == 10:\n",
    "        int_sum += func(xj)*0.5*h\n",
    "    else:\n",
    "        int_sum += func(xj)*h\n",
    "    print('j= {:<2}, xj= {:<3}, function= {:<5}'.format(j, np.round(xj,2), func(xj)))\n",
    "    xj += h\n",
    "print(int_sum)\n",
    "\n",
    "trape_error = int_sum-exact_awnwer\n",
    "print('% error trapezoidal:',abs(trape_error/exact_awnwer*100))"
   ]
  },
  {
   "cell_type": "markdown",
   "metadata": {},
   "source": [
    "## Numerical Differentiation\n",
    "\n",
    "Let's go through an example of differentiation for the function $f(x)=e^{-x^2}$ from 0 to 1 with 0.1 interval."
   ]
  },
  {
   "cell_type": "code",
   "execution_count": null,
   "metadata": {},
   "outputs": [],
   "source": []
  }
 ],
 "metadata": {
  "kernelspec": {
   "display_name": "Python 3 (ipykernel)",
   "language": "python",
   "name": "python3"
  },
  "language_info": {
   "codemirror_mode": {
    "name": "ipython",
    "version": 3
   },
   "file_extension": ".py",
   "mimetype": "text/x-python",
   "name": "python",
   "nbconvert_exporter": "python",
   "pygments_lexer": "ipython3",
   "version": "3.9.12"
  }
 },
 "nbformat": 4,
 "nbformat_minor": 2
}
