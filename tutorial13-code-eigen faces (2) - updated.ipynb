{
 "cells": [
  {
   "cell_type": "code",
   "execution_count": null,
   "metadata": {
    "scrolled": true
   },
   "outputs": [],
   "source": [
    "import matplotlib.pyplot as plt\n",
    "import numpy as np\n",
    "import os\n",
    "import scipy.io\n",
    "plt.rcParams['figure.figsize'] = [8, 8]\n",
    "plt.rcParams.update({'font.size': 18})\n",
    "\n",
    "mat_contents = scipy.io.loadmat('allFaces.mat')\n",
    "faces = mat_contents['faces']\n",
    "m = int(mat_contents['m'])\n",
    "n = int(mat_contents['n'])\n",
    "nfaces = np.ndarray.flatten(mat_contents['nfaces'])\n",
    "\n",
    "# We use the first 36 people for training data\n",
    "trainingFaces = faces[:,:np.sum(nfaces[:36])].T\n",
    "avgFace = np.mean(trainingFaces,axis=0) # size n*m by 1\n",
    "# avgFace = avgFace[np.newaxis,:]\n",
    "avgFace.shape"
   ]
  },
  {
   "cell_type": "code",
   "execution_count": null,
   "metadata": {},
   "outputs": [],
   "source": [
    "# Compute eigenfaces on mean-subtracted training data\n",
    "X = trainingFaces - np.tile(avgFace,(trainingFaces.shape[0],1))\n",
    "U, S, VT = np.linalg.svd(X,full_matrices=False)"
   ]
  },
  {
   "cell_type": "code",
   "execution_count": null,
   "metadata": {},
   "outputs": [],
   "source": [
    "U.shape, S.shape, VT.shape, X.shape"
   ]
  },
  {
   "cell_type": "code",
   "execution_count": null,
   "metadata": {},
   "outputs": [],
   "source": [
    "fig1 = plt.figure()\n",
    "ax1 = fig1.add_subplot(121)\n",
    "img_avg = ax1.imshow(np.reshape(avgFace,(m,n)).T)\n",
    "img_avg.set_cmap('gray')\n",
    "plt.axis('off')\n",
    "\n",
    "ax2 = fig1.add_subplot(122)\n",
    "img_u1 = ax2.imshow(np.reshape(VT[0,:],(m,n)).T)\n",
    "img_u1.set_cmap('gray')\n",
    "plt.axis('off')\n",
    "\n",
    "plt.show()"
   ]
  },
  {
   "cell_type": "code",
   "execution_count": null,
   "metadata": {},
   "outputs": [],
   "source": [
    "fig1 = plt.figure(figsize=[14,6])\n",
    "for i in range(10):\n",
    "    ax1 = fig1.add_subplot(2,5,i+1)\n",
    "    img_u1 = ax1.imshow(np.reshape(VT[i,:],(m,n)).T)\n",
    "    img_u1.set_cmap('gray')\n",
    "    plt.axis('off')\n",
    "plt.show()"
   ]
  },
  {
   "cell_type": "code",
   "execution_count": null,
   "metadata": {
    "scrolled": false
   },
   "outputs": [],
   "source": [
    "## Now show eigenface reconstruction of image that was omitted from test set\n",
    "plt.rcParams['figure.figsize'] = [4, 4]\n",
    "testFace = faces[:,np.sum(nfaces[:36])] # First face of person 37\n",
    "\n",
    "plt.imshow(np.reshape(testFace,(m,n)).T)\n",
    "plt.set_cmap('gray')\n",
    "plt.title('Original Image')\n",
    "plt.axis('off')\n",
    "plt.show()\n"
   ]
  },
  {
   "cell_type": "code",
   "execution_count": null,
   "metadata": {},
   "outputs": [],
   "source": [
    "avgFace.shape"
   ]
  },
  {
   "cell_type": "code",
   "execution_count": null,
   "metadata": {},
   "outputs": [],
   "source": [
    "testFaceMS = testFace - avgFace\n",
    "VT.shape, testFaceMS.shape, testFace.shape, testFaceMS.shape"
   ]
  },
  {
   "cell_type": "code",
   "execution_count": null,
   "metadata": {},
   "outputs": [],
   "source": [
    "testFaceMS @ VT[:r,:].T"
   ]
  },
  {
   "cell_type": "code",
   "execution_count": null,
   "metadata": {},
   "outputs": [],
   "source": [
    "testFaceMS = testFace - avgFace\n",
    "# r_list = [25, 50, 100, 200, 400, 800, 1600]\n",
    "r_list = [25, 100, 400]\n",
    "\n",
    "plt.rcParams['figure.figsize'] = [4, 4]\n",
    "\n",
    "for r in r_list:\n",
    "    Z_r = testFaceMS @ VT[:r,:].T # r principal components (# = r)\n",
    "    print(Z_r.shape)\n",
    "    reconFace = avgFace + Z_r @ VT[:r,:] # reconstruction using r eigen faces and r principal components\n",
    "    img = plt.imshow(np.reshape(reconFace,(m,n)).T)\n",
    "    img.set_cmap('gray')\n",
    "    plt.title('r = ' + str(r))\n",
    "    plt.axis('off')\n",
    "    plt.show()"
   ]
  },
  {
   "cell_type": "code",
   "execution_count": null,
   "metadata": {},
   "outputs": [],
   "source": [
    "PCAmodes = [5, 6] # Project onto PCA modes 5 and 6\n",
    "np.ones_like(PCAmodes)"
   ]
  },
  {
   "cell_type": "code",
   "execution_count": null,
   "metadata": {},
   "outputs": [],
   "source": [
    "PCAmodes-np.ones_like(PCAmodes)"
   ]
  },
  {
   "cell_type": "code",
   "execution_count": null,
   "metadata": {},
   "outputs": [],
   "source": [
    "## Project person 2 and 7 onto PC5 and PC6\n",
    "\n",
    "P1num = 2 # Person number 2\n",
    "P2num = 7 # Person number 7\n",
    "\n",
    "P1 = faces[:,np.sum(nfaces[:(P1num-1)]):np.sum(nfaces[:P1num])]\n",
    "P2 = faces[:,np.sum(nfaces[:(P2num-1)]):np.sum(nfaces[:P2num])]\n",
    "\n",
    "P1 = P1 - np.tile(avgFace,(P1.shape[1],1)).T\n",
    "P2 = P2 - np.tile(avgFace,(P2.shape[1],1)).T\n",
    "\n",
    "P1 = P1.T\n",
    "P2 = P2.T\n",
    "\n",
    "PCAmodes = [5, 6] # Project onto PCA modes 5 and 6\n",
    "PCACoordsP1 = P1 @ VT[PCAmodes-np.ones_like(PCAmodes),:].T\n",
    "PCACoordsP2 = P2 @ VT[PCAmodes-np.ones_like(PCAmodes),:].T\n",
    "\n",
    "plt.figure(figsize=[6,6])\n",
    "plt.plot(PCACoordsP1[:,0],PCACoordsP1[:,1],'d',color='k',label='Person '+str(P1num))\n",
    "plt.plot(PCACoordsP2[:,0],PCACoordsP2[:,1],'^',color='r',label='Person '+str(P2num))\n",
    "\n",
    "plt.legend()\n",
    "plt.show()"
   ]
  },
  {
   "cell_type": "code",
   "execution_count": null,
   "metadata": {},
   "outputs": [],
   "source": [
    "## Project person 2 and 7 onto PC5 and PC6\n",
    "\n",
    "P1num = 2 # Person number 2\n",
    "P2num = 7 # Person number 7\n",
    "\n",
    "P1 = faces[:,np.sum(nfaces[:(P1num-1)]):np.sum(nfaces[:P1num])]\n",
    "P2 = faces[:,np.sum(nfaces[:(P2num-1)]):np.sum(nfaces[:P2num])]\n",
    "\n",
    "P1 = P1 - np.tile(avgFace,(P1.shape[1],1)).T\n",
    "P2 = P2 - np.tile(avgFace,(P2.shape[1],1)).T\n",
    "\n",
    "P1 = P1.T\n",
    "P2 = P2.T\n",
    "\n",
    "PCAmodes = [1, 2] # Project onto PCA modes 5 and 6\n",
    "PCACoordsP1 = P1 @ VT[PCAmodes-np.ones_like(PCAmodes),:].T\n",
    "PCACoordsP2 = P2 @ VT[PCAmodes-np.ones_like(PCAmodes),:].T\n",
    "\n",
    "plt.figure(figsize=[6,6])\n",
    "plt.plot(PCACoordsP1[:,0],PCACoordsP1[:,1],'d',color='k',label='Person '+str(P1num))\n",
    "plt.plot(PCACoordsP2[:,0],PCACoordsP2[:,1],'^',color='r',label='Person '+str(P2num))\n",
    "\n",
    "plt.legend()\n",
    "plt.show()"
   ]
  }
 ],
 "metadata": {
  "kernelspec": {
   "display_name": "Python 3",
   "language": "python",
   "name": "python3"
  },
  "language_info": {
   "codemirror_mode": {
    "name": "ipython",
    "version": 3
   },
   "file_extension": ".py",
   "mimetype": "text/x-python",
   "name": "python",
   "nbconvert_exporter": "python",
   "pygments_lexer": "ipython3",
   "version": "3.8.5"
  }
 },
 "nbformat": 4,
 "nbformat_minor": 2
}
