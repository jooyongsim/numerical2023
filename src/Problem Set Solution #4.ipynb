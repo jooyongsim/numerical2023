{
 "cells": [
  {
   "cell_type": "markdown",
   "metadata": {},
   "source": [
    "## 19.5) 1번\n",
    "## 직사각형 공식(rectangular rule)"
   ]
  },
  {
   "cell_type": "code",
   "execution_count": 2,
   "metadata": {},
   "outputs": [],
   "source": [
    "import numpy as np\n",
    "%matplotlib inline\n",
    "import matplotlib.pyplot as plt\n",
    "import sympy\n",
    "# sympy.init_printing()\n",
    "from scipy import integrate"
   ]
  },
  {
   "cell_type": "code",
   "execution_count": 13,
   "metadata": {},
   "outputs": [
    {
     "data": {
      "text/latex": [
       "$\\displaystyle 0.74682413$"
      ],
      "text/plain": [
       "0.74682413"
      ]
     },
     "execution_count": 13,
     "metadata": {},
     "output_type": "execute_result"
    }
   ],
   "source": [
    "x = sympy.symbols(\"x\")\n",
    "exp = sympy.exp(-x**2)\n",
    "exact_awnwer = sympy.integrate(exp, (x, 0, 1)).evalf(8)\n",
    "exact_awnwer"
   ]
  },
  {
   "cell_type": "code",
   "execution_count": 30,
   "metadata": {},
   "outputs": [
    {
     "name": "stdout",
     "output_type": "stream",
     "text": [
      "j= 0 , xj= 0  , function= 1.0  \n",
      "j= 1 , xj= 0.1, function= 0.9900498337491681\n",
      "j= 2 , xj= 0.2, function= 0.9607894391523232\n",
      "j= 3 , xj= 0.3, function= 0.9139311852712282\n",
      "j= 4 , xj= 0.4, function= 0.8521437889662113\n",
      "j= 5 , xj= 0.5, function= 0.7788007830714049\n",
      "j= 6 , xj= 0.6, function= 0.697676326071031\n",
      "j= 7 , xj= 0.7, function= 0.6126263941844161\n",
      "j= 8 , xj= 0.8, function= 0.5272924240430487\n",
      "j= 9 , xj= 0.9, function= 0.4448580662229412\n",
      "j= 10, xj= 1.0, function= 0.3678794411714424\n",
      "0.7462107961317493\n",
      "% error trapezoidal: 0.0821260388973603\n"
     ]
    }
   ],
   "source": [
    "# trapezoidal\n",
    "def func(x):\n",
    "    return np.exp(-x**2)\n",
    "\n",
    "h = 0.1\n",
    "int_sum = 0 # integration 값을 담는 그릇\n",
    "xj = 0\n",
    "for j in range(11):\n",
    "    if j == 0 or j == 10:\n",
    "        int_sum += func(xj)*0.5*h\n",
    "    else:\n",
    "        int_sum += func(xj)*h\n",
    "    print('j= {:<2}, xj= {:<3}, function= {:<5}'.format(j, np.round(xj,2), func(xj)))\n",
    "    xj += h\n",
    "print(int_sum)\n",
    "\n",
    "trape_error = int_sum-exact_awnwer\n",
    "print('% error trapezoidal:',abs(trape_error/exact_awnwer*100))"
   ]
  },
  {
   "cell_type": "code",
   "execution_count": 32,
   "metadata": {},
   "outputs": [
    {
     "name": "stdout",
     "output_type": "stream",
     "text": [
      "j= 0 , xj= 0.05, function= 0.9975031223974601\n",
      "j= 1 , xj= 0.15, function= 0.9777512371933363\n",
      "j= 2 , xj= 0.25, function= 0.9394130628134758\n",
      "j= 3 , xj= 0.35, function= 0.8847059049434836\n",
      "j= 4 , xj= 0.45, function= 0.8166864825981108\n",
      "j= 5 , xj= 0.55, function= 0.7389684882589443\n",
      "j= 6 , xj= 0.65, function= 0.6554062543268406\n",
      "j= 7 , xj= 0.75, function= 0.5697828247309231\n",
      "j= 8 , xj= 0.85, function= 0.48553689515407955\n",
      "j= 9 , xj= 0.95, function= 0.40555450506332064\n",
      "0.7471308777479975\n",
      "% error trapezoidal: 0.0410731957462193\n"
     ]
    }
   ],
   "source": [
    "# rectangular\n",
    "def func(x):\n",
    "    return np.exp(-x**2)\n",
    "\n",
    "h = 0.1\n",
    "int_sum = 0 # integration 값을 담는 그릇\n",
    "xj = 0.05\n",
    "for j in range(10):\n",
    "    int_sum += func(xj)*h\n",
    "    print('j= {:<2}, xj= {:<3}, function= {:<5}'.format(j, np.round(xj,2), func(xj)))\n",
    "    xj += h\n",
    "print(int_sum)\n",
    "\n",
    "rec_error = int_sum-exact_awnwer\n",
    "print('% error trapezoidal:',abs(rec_error/exact_awnwer*100))"
   ]
  },
  {
   "cell_type": "markdown",
   "metadata": {},
   "source": [
    "## 19.5) 14번\n",
    "## Differentiation"
   ]
  },
  {
   "cell_type": "code",
   "execution_count": 33,
   "metadata": {},
   "outputs": [
    {
     "name": "stdout",
     "output_type": "stream",
     "text": [
      "f2_diff=0.25599999999999995, f2_diff_real=0.25600000000000006, error = 1.1102230246251565e-16 \n"
     ]
    }
   ],
   "source": [
    "import numpy as np\n",
    "def f(x):\n",
    "    return x**4\n",
    "\n",
    "\n",
    "f0 = f(0)\n",
    "f1 = f(0.2)\n",
    "f2 = f(0.4)\n",
    "f3 = f(0.6)\n",
    "f4 = f(0.8)\n",
    "h = 0.2\n",
    "#(15)번 식\n",
    "f2_diff = (f0-8*f1+8*f3-f4)/(12*h)\n",
    "\n",
    "#오차 구하기\n",
    "def f_real(x):\n",
    "    return 4*x**3\n",
    "\n",
    "f2_diff_real = f_real(0.4)\n",
    "f2_diff_real\n",
    "\n",
    "error = f2_diff_real - f2_diff\n",
    "\n",
    "\n",
    "print('f2_diff={:6}, f2_diff_real={:6}, error = {:6} '.format(f2_diff, f2_diff_real, error))"
   ]
  },
  {
   "cell_type": "markdown",
   "metadata": {},
   "source": [
    "## 연습문제 20.5 1번 Least Squares"
   ]
  },
  {
   "cell_type": "code",
   "execution_count": 43,
   "metadata": {},
   "outputs": [
    {
     "name": "stdout",
     "output_type": "stream",
     "text": [
      "-1.0384615384615383 1.8461538461538458\n"
     ]
    },
    {
     "data": {
      "image/png": "[encoded data removed]",
      "text/plain": [
       "<Figure size 576x576 with 1 Axes>"
      ]
     },
     "metadata": {
      "needs_background": "light"
     },
     "output_type": "display_data"
    }
   ],
   "source": [
    "import matplotlib.pyplot as plt\n",
    "import numpy as np\n",
    "plt.rcParams['figure.figsize'] = [8, 8]\n",
    "plt.rcParams.update({'font.size': 18})\n",
    "\n",
    "a = 3 # True slope\n",
    "b = 5\n",
    "x = np.array([0, 2, 3, 5])\n",
    "y = np.array([2, 0, -2, -3])\n",
    "\n",
    "A = np.stack((x,np.ones(x.shape)),axis=1)\n",
    "B = y\n",
    "\n",
    "U, S, VT = np.linalg.svd(A,full_matrices=False)\n",
    "pinv = VT.T @ np.linalg.inv(np.diag(S)) @ U.T\n",
    "(a, b) =  pinv @ B # Least-square fit\n",
    "print(a, b)\n",
    "\n",
    "xl = np.arange(0,5.2,0.2)\n",
    "yl = a*xl+b\n",
    "\n",
    "fig, ax = plt.subplots()\n",
    "ax.plot(xl, yl, color='k', linewidth=2, label='True line') # True relationship\n",
    "ax.plot(x, y, 'o', color='r', markersize = 10, label='Noisy data') # Noisy measurements\n",
    "ax.grid(linestyle='--')\n",
    "\n",
    "ax.set_xlabel('x')\n",
    "ax.set_ylabel('y')\n",
    "ax.spines['left'].set_position('zero')\n",
    "ax.spines['bottom'].set_position('zero')\n",
    "ax.spines['right'].set_color('none')\n",
    "ax.spines['top'].set_color('none')\n"
   ]
  },
  {
   "cell_type": "markdown",
   "metadata": {},
   "source": [
    "## 20.5 4번 A Hooke’s Law Example of Least Squares\n"
   ]
  },
  {
   "cell_type": "code",
   "execution_count": 52,
   "metadata": {},
   "outputs": [
    {
     "name": "stdout",
     "output_type": "stream",
     "text": [
      "[0.31757813] 0.01914062499999991\n",
      "spring constant = 0.31757812500000004 N/m\n"
     ]
    },
    {
     "data": {
      "image/png": "[encoded data removed]",
      "text/plain": [
       "<Figure size 576x576 with 1 Axes>"
      ]
     },
     "metadata": {
      "needs_background": "light"
     },
     "output_type": "display_data"
    }
   ],
   "source": [
    "x = [1, 2, 4, 6, 10]\n",
    "y = [0.3, 0.7, 1.3, 1.9, 3.2]\n",
    "x = np.array(x)\n",
    "x = x[:,np.newaxis]  # x should be always => dimension >2\n",
    "y = np.array(y)\n",
    "\n",
    "from sklearn.linear_model import LinearRegression\n",
    "reg = LinearRegression().fit(x, y)\n",
    "a, b = reg.coef_, reg.intercept_\n",
    "\n",
    "print(a, b)\n",
    "\n",
    "xl = np.arange(0,10,0.2)\n",
    "yl = a*xl+b\n",
    "\n",
    "fig, ax = plt.subplots()\n",
    "ax.plot(xl, yl, color='k', linewidth=2, label='True line') # True relationship\n",
    "ax.plot(x, y, 'o', color='r', markersize = 10, label='Noisy data') # Noisy measurements\n",
    "ax.grid(linestyle='--')\n",
    "\n",
    "ax.set_xlabel('x')\n",
    "ax.set_ylabel('y')\n",
    "ax.spines['left'].set_position('zero')\n",
    "ax.spines['bottom'].set_position('zero')\n",
    "ax.spines['right'].set_color('none')\n",
    "ax.spines['top'].set_color('none')\n",
    "\n",
    "print('spring constant = {} N/m'.format(a[0]))\n"
   ]
  },
  {
   "attachments": {},
   "cell_type": "markdown",
   "metadata": {},
   "source": [
    "## 연습문제 21.1 1번 Euler Method"
   ]
  },
  {
   "cell_type": "code",
   "execution_count": 58,
   "metadata": {},
   "outputs": [
    {
     "name": "stdout",
     "output_type": "stream",
     "text": [
      "i=0 , xi=0  , yi=     5\n",
      "i=1 , xi=0.2, yi=   4.8\n",
      "i=2 , xi=0.4, yi= 4.608\n",
      "i=3 , xi=0.6, yi=4.42368\n",
      "i=4 , xi=0.8, yi=4.2467328\n",
      "i=5 , xi=1.0, yi=4.076863488\n",
      "i=6 , xi=1.2, yi=3.9137889484799997\n",
      "i=7 , xi=1.4, yi=3.7572373905407996\n",
      "i=8 , xi=1.6, yi=3.6069478949191676\n",
      "i=9 , xi=1.8, yi=3.462669979122401\n"
     ]
    }
   ],
   "source": [
    "# y' = f(x,y) \n",
    "# f(x,y) = -0.2*y\n",
    "\n",
    "def f_x_y(x,y):\n",
    "    return -0.2*y\n",
    "\n",
    "# y(0) = 5\n",
    "xi = 0\n",
    "yi = 5\n",
    "h = 0.2\n",
    "\n",
    "# y1 = y0 + h*f(x0,y0)\n",
    "\n",
    "N = 10\n",
    "\n",
    "x_numerical = []\n",
    "y_numerical = []\n",
    "\n",
    "for i in range(N):\n",
    "    yip1 = yi + h*f_x_y(xi,yi)\n",
    "    print('i={:<2}, xi={:<3}, yi={:6}'.format(i,round(xi,2),yi))\n",
    "    # Euler 계산 끝\n",
    "    x_numerical.append(xi)\n",
    "    y_numerical.append(yi)\n",
    "        \n",
    "    # 다음 업데이틀 위한 xi <- xi+1 , yi <- yi+1\n",
    "    xi = xi + h\n",
    "    yi = yip1"
   ]
  },
  {
   "cell_type": "code",
   "execution_count": 55,
   "metadata": {},
   "outputs": [
    {
     "data": {
      "text/latex": [
       "$\\displaystyle \\frac{d}{d x} y{\\left(x \\right)} = - 0.2 y{\\left(x \\right)}$"
      ],
      "text/plain": [
       "Eq(Derivative(y(x), x), -0.2*y(x))"
      ]
     },
     "execution_count": 55,
     "metadata": {},
     "output_type": "execute_result"
    }
   ],
   "source": [
    "x = sympy.symbols(\"x\")\n",
    "y = sympy.Function(\"y\")\n",
    "\n",
    "f = -0.2*y(x)\n",
    "sympy.Eq(y(x).diff(x), f)\n"
   ]
  },
  {
   "cell_type": "code",
   "execution_count": 56,
   "metadata": {},
   "outputs": [
    {
     "data": {
      "text/latex": [
       "$\\displaystyle y{\\left(x \\right)} = C_{1} e^{- 0.2 x}$"
      ],
      "text/plain": [
       "Eq(y(x), C1*exp(-0.2*x))"
      ]
     },
     "execution_count": 56,
     "metadata": {},
     "output_type": "execute_result"
    }
   ],
   "source": [
    "ode_sol = sympy.dsolve(y(x).diff(x) - f)\n",
    "ode_sol"
   ]
  },
  {
   "cell_type": "code",
   "execution_count": 57,
   "metadata": {},
   "outputs": [
    {
     "data": {
      "text/latex": [
       "$\\displaystyle y{\\left(x \\right)} = 5 e^{- 0.2 x}$"
      ],
      "text/plain": [
       "Eq(y(x), 5*exp(-0.2*x))"
      ]
     },
     "execution_count": 57,
     "metadata": {},
     "output_type": "execute_result"
    }
   ],
   "source": [
    "ics = {y(0): 5}\n",
    "ode_sol = sympy.dsolve(y(x).diff(x) - f,ics = ics)\n",
    "ode_sol"
   ]
  },
  {
   "cell_type": "code",
   "execution_count": 63,
   "metadata": {},
   "outputs": [
    {
     "data": {
      "text/plain": [
       "Text(0, 0.5, 'y')"
      ]
     },
     "execution_count": 63,
     "metadata": {},
     "output_type": "execute_result"
    },
    {
     "data": {
      "image/png": "[encoded data removed]",
      "text/plain": [
       "<Figure size 576x576 with 1 Axes>"
      ]
     },
     "metadata": {
      "needs_background": "light"
     },
     "output_type": "display_data"
    }
   ],
   "source": [
    "x_vec = np.linspace(0, 2, 20)\n",
    "\n",
    "plt.figure()\n",
    "plt.plot(x_vec, 5*np.exp(-0.2*x_vec), 'r', lw=2)\n",
    "plt.plot(x_numerical, y_numerical, 'o', color='b')\n",
    "plt.xlabel('x')\n",
    "plt.ylabel('y')"
   ]
  },
  {
   "cell_type": "markdown",
   "metadata": {},
   "source": [
    "## 연습문제 21.1, 11번 Runge-Kutta Method of Fourth Order"
   ]
  },
  {
   "cell_type": "code",
   "execution_count": 65,
   "metadata": {},
   "outputs": [
    {
     "data": {
      "text/latex": [
       "$\\displaystyle y{\\left(x \\right)} = - \\frac{2}{x^{2} - 2}$"
      ],
      "text/plain": [
       "Eq(y(x), -2/(x**2 - 2))"
      ]
     },
     "execution_count": 65,
     "metadata": {},
     "output_type": "execute_result"
    }
   ],
   "source": [
    "x = sympy.symbols(\"x\")\n",
    "y = sympy.Function(\"y\")\n",
    "\n",
    "f = x*y(x)**2\n",
    "ode_sol = sympy.dsolve(y(x).diff(x) - f)\n",
    "ics = {y(0): 1}\n",
    "ode_sol = sympy.dsolve(y(x).diff(x) - f,ics = ics)\n",
    "ode_sol"
   ]
  },
  {
   "cell_type": "code",
   "execution_count": 71,
   "metadata": {},
   "outputs": [
    {
     "name": "stdout",
     "output_type": "stream",
     "text": [
      "i=0 , xi=0  , yi=     1\n",
      "i=1 , xi=0.1, yi=1.0050251359390652\n",
      "i=2 , xi=0.2, yi=1.0204082056816612\n",
      "i=3 , xi=0.3, yi=1.0471205219541164\n",
      "i=4 , xi=0.4, yi=1.0869567284316088\n",
      "i=5 , xi=0.5, yi=1.1428575201461912\n",
      "i=6 , xi=0.6, yi=1.219512843620599\n",
      "i=7 , xi=0.7, yi=1.3245043524416344\n",
      "i=8 , xi=0.8, yi=1.4705896530855818\n",
      "i=9 , xi=0.9, yi=1.680672908126619\n"
     ]
    }
   ],
   "source": [
    "# y' = f(x,y) \n",
    "# f(x,y) = x*y(x)**2\n",
    "\n",
    "def f_x_y(x,y):\n",
    "    return x*y**2\n",
    "\n",
    "# y(0) = 5\n",
    "xi = 0\n",
    "yi = 1\n",
    "h = 0.1\n",
    "\n",
    "# Fourth Runge-Kutta\n",
    "# y1 = y0 + h/6*(K1+2*K2+2*K3+K4)\n",
    "# K1 = f(x0,y0)\n",
    "# K2 = f(x0+h/2,y0+h/2*K1)\n",
    "# K3 = f(x0+h/2,y0+h/2*K2)\n",
    "# K4 = f(x0+h,y0+h*K3)\n",
    "\n",
    "N = 10\n",
    "\n",
    "x_numerical = []\n",
    "y_numerical = []\n",
    "\n",
    "for i in range(N):\n",
    "    K1 = f_x_y(xi,yi)\n",
    "    K2 = f_x_y(xi+h/2,yi+h/2*K1)\n",
    "    K3 = f_x_y(xi+h/2,yi+h/2*K2)\n",
    "    K4 = f_x_y(xi+h,yi+h*K3)\n",
    "    yip1 = yi + h/6*(K1+2*K2+2*K3+K4)\n",
    "    print('i={:<2}, xi={:<3}, yi={:6}'.format(i,round(xi,2),yi))\n",
    "    # Euler 계산 끝\n",
    "    x_numerical.append(xi)\n",
    "    y_numerical.append(yi)\n",
    "        \n",
    "    # 다음 업데이틀 위한 xi <- xi+1 , yi <- yi+1\n",
    "    xi = xi + h\n",
    "    yi = yip1"
   ]
  },
  {
   "cell_type": "code",
   "execution_count": 72,
   "metadata": {},
   "outputs": [
    {
     "data": {
      "text/plain": [
       "Text(0, 0.5, 'y')"
      ]
     },
     "execution_count": 72,
     "metadata": {},
     "output_type": "execute_result"
    },
    {
     "data": {
      "image/png": "[encoded data removed]",
      "text/plain": [
       "<Figure size 576x576 with 1 Axes>"
      ]
     },
     "metadata": {
      "needs_background": "light"
     },
     "output_type": "display_data"
    }
   ],
   "source": [
    "x_vec = np.linspace(0, 1, 20)\n",
    "y_func = sympy.lambdify((x), ode_sol.rhs, 'numpy')\n",
    "y_vec = y_func(x_vec)\n",
    "\n",
    "plt.figure()\n",
    "plt.plot(x_vec, y_vec, 'r', lw=2)\n",
    "plt.plot(x_numerical, y_numerical, 'o', color='b')\n",
    "plt.xlabel('x')\n",
    "plt.ylabel('y')"
   ]
  }
 ],
 "metadata": {
  "kernelspec": {
   "display_name": "Python 3",
   "language": "python",
   "name": "python3"
  },
  "language_info": {
   "codemirror_mode": {
    "name": "ipython",
    "version": 3
   },
   "file_extension": ".py",
   "mimetype": "text/x-python",
   "name": "python",
   "nbconvert_exporter": "python",
   "pygments_lexer": "ipython3",
   "version": "3.8.5"
  }
 },
 "nbformat": 4,
 "nbformat_minor": 2
}
