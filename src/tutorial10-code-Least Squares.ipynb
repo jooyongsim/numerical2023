{
 "cells": [
  {
   "cell_type": "code",
   "execution_count": null,
   "metadata": {},
   "outputs": [],
   "source": [
    "import matplotlib.pyplot as plt\n",
    "import numpy as np\n",
    "plt.rcParams['figure.figsize'] = [8, 8]\n",
    "plt.rcParams.update({'font.size': 18})\n",
    "\n",
    "a = 3 # True slope\n",
    "b = 5\n",
    "x = np.arange(-2,2,0.25)\n",
    "x = x.reshape(-1, 1)\n",
    "y = a*x + b + np.random.randn(*x.shape) # Add noise\n",
    "# y = a*x + np.random.randn(x.shape[0],x.shape[1])\n",
    "\n",
    "fig, ax = plt.subplots()\n",
    "ax.plot(x, a*x+b, color='k', linewidth=2, label='True line') # True relationship\n",
    "ax.plot(x, y, 'x', color='r', markersize = 10, label='Noisy data') # Noisy measurements\n",
    "ax.grid(linestyle='--')\n",
    "\n",
    "ax.set_xlabel('x')\n",
    "ax.set_ylabel('y')\n",
    "ax.spines['left'].set_position('zero')\n",
    "ax.spines['bottom'].set_position('zero')\n",
    "ax.spines['right'].set_color('none')\n",
    "ax.spines['top'].set_color('none')\n"
   ]
  },
  {
   "cell_type": "code",
   "execution_count": null,
   "metadata": {},
   "outputs": [],
   "source": [
    "x"
   ]
  },
  {
   "cell_type": "code",
   "execution_count": null,
   "metadata": {},
   "outputs": [],
   "source": [
    "A = np.concatenate((x,np.ones(x.shape)),axis=1)\n",
    "A"
   ]
  },
  {
   "cell_type": "code",
   "execution_count": null,
   "metadata": {},
   "outputs": [],
   "source": [
    "y"
   ]
  },
  {
   "cell_type": "code",
   "execution_count": null,
   "metadata": {},
   "outputs": [],
   "source": [
    "A = np.concatenate((x,np.ones(x.shape)),axis=1)\n",
    "B = y\n",
    "\n",
    "U, S, VT = np.linalg.svd(A,full_matrices=False)\n",
    "pinv = VT.T @ np.linalg.inv(np.diag(S)) @ U.T @ B # Least-square fit\n",
    "pinv"
   ]
  },
  {
   "cell_type": "code",
   "execution_count": null,
   "metadata": {},
   "outputs": [],
   "source": [
    "fig, ax = plt.subplots()\n",
    "\n",
    "ax.plot(x, a*x+b, color='k', linewidth=2, label='True line') # True relationship\n",
    "ax.plot(x, y, 'x', color='r', markersize = 10, label='Noisy data') # Noisy measurements\n",
    "\n",
    "ax.plot(x,pinv[0] * x + pinv[1],'--',color='b',linewidth=4, label='Regression line')\n",
    "ax.set_xlabel('x')\n",
    "ax.set_ylabel('y')\n",
    "\n",
    "ax.grid(linestyle='--')\n",
    "\n",
    "ax.set_xlabel('x')\n",
    "ax.set_ylabel('y')\n",
    "ax.spines['left'].set_position('zero')\n",
    "ax.spines['bottom'].set_position('zero')\n",
    "ax.spines['right'].set_color('none')\n",
    "ax.spines['top'].set_color('none')\n",
    "\n",
    "plt.legend()\n",
    "plt.show()"
   ]
  },
  {
   "cell_type": "code",
   "execution_count": null,
   "metadata": {},
   "outputs": [],
   "source": [
    "# Methods of computing regression\n",
    "atilde1 = VT.T @ np.linalg.inv(np.diag(S)) @ U.T @ B\n",
    "atilde2 = np.linalg.pinv(A) @ B\n",
    "\n",
    "print('pseudo inverse by svd:')\n",
    "print(atilde1)\n",
    "print('left pseudo inverse:')\n",
    "print(atilde2)"
   ]
  },
  {
   "cell_type": "code",
   "execution_count": null,
   "metadata": {},
   "outputs": [],
   "source": [
    "from sklearn.linear_model import LinearRegression\n",
    "reg = LinearRegression().fit(A, B)\n",
    "reg.coef_, reg.intercept_"
   ]
  }
 ],
 "metadata": {
  "kernelspec": {
   "display_name": "Python 3",
   "language": "python",
   "name": "python3"
  },
  "language_info": {
   "codemirror_mode": {
    "name": "ipython",
    "version": 3
   },
   "file_extension": ".py",
   "mimetype": "text/x-python",
   "name": "python",
   "nbconvert_exporter": "python",
   "pygments_lexer": "ipython3",
   "version": "3.7.3"
  }
 },
 "nbformat": 4,
 "nbformat_minor": 2
}
