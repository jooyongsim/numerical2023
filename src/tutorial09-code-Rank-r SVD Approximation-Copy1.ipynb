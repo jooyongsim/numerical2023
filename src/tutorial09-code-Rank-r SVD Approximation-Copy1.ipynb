{
 "cells": [
  {
   "cell_type": "code",
   "execution_count": null,
   "metadata": {},
   "outputs": [],
   "source": [
    "from matplotlib.image import imread\n",
    "import matplotlib.pyplot as plt\n",
    "import numpy as np\n",
    "import os\n",
    "plt.rcParams['figure.figsize'] = [12, 6]\n",
    "\n",
    "A = imread(os.path.join('dog.jpg'))\n",
    "X = np.mean(A, -1); # Convert RGB to grayscale\n",
    "\n",
    "img = plt.imshow(X)\n",
    "img.set_cmap('gray')\n",
    "plt.axis('off')\n",
    "plt.show()"
   ]
  },
  {
   "cell_type": "code",
   "execution_count": null,
   "metadata": {
    "scrolled": false
   },
   "outputs": [],
   "source": [
    "U, S, VT = np.linalg.svd(X,full_matrices=False)\n",
    "S = np.diag(S)\n",
    "\n",
    "j = 1\n",
    "for r in (5, 20, 100):\n",
    "    plt.subplot(1, 3, j)\n",
    "    # Construct approximate image\n",
    "    Xapprox = U[:,:r] @ S[0:r,:r] @ VT[:r,:]\n",
    "    img = plt.imshow(Xapprox)\n",
    "    img.set_cmap('gray')\n",
    "    plt.axis('off')\n",
    "    plt.title('r = ' + str(r))\n",
    "    j += 1\n",
    "plt.show()"
   ]
  },
  {
   "cell_type": "code",
   "execution_count": null,
   "metadata": {},
   "outputs": [],
   "source": [
    "plt.figure(1)\n",
    "plt.semilogy(np.diag(S))\n",
    "plt.title('Singular Values')\n",
    "plt.show()\n",
    "\n",
    "plt.figure(2)\n",
    "plt.plot(np.cumsum(np.diag(S))/np.sum(np.diag(S)))\n",
    "plt.title('Singular Values: Cumulative Sum')\n",
    "plt.show()"
   ]
  }
 ],
 "metadata": {
  "kernelspec": {
   "display_name": "Python 3",
   "language": "python",
   "name": "python3"
  },
  "language_info": {
   "codemirror_mode": {
    "name": "ipython",
    "version": 3
   },
   "file_extension": ".py",
   "mimetype": "text/x-python",
   "name": "python",
   "nbconvert_exporter": "python",
   "pygments_lexer": "ipython3",
   "version": "3.7.10"
  }
 },
 "nbformat": 4,
 "nbformat_minor": 2
}
